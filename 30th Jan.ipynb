{
 "cells": [
  {
   "cell_type": "code",
   "execution_count": 7,
   "id": "e21c8357-81f8-481f-b021-de9e2b074ab6",
   "metadata": {},
   "outputs": [
    {
     "name": "stdin",
     "output_type": "stream",
     "text": [
      "Enter Marks:  80\n"
     ]
    },
    {
     "name": "stdout",
     "output_type": "stream",
     "text": [
      "C\n"
     ]
    }
   ],
   "source": [
    "#Q1\n",
    "marks = int(input(\"Enter Marks: \"))\n",
    "if marks > 90:\n",
    "    print(\"A\")\n",
    "elif marks > 80 and marks <= 90:\n",
    "    print(\"B\")\n",
    "elif marks >= 60 and marks <= 80:\n",
    "    print(\"C\")\n",
    "else:\n",
    "    print(\"D\")"
   ]
  },
  {
   "cell_type": "code",
   "execution_count": 11,
   "id": "0668e1f9-fe81-45e3-96e7-d8e50c248984",
   "metadata": {},
   "outputs": [
    {
     "name": "stdin",
     "output_type": "stream",
     "text": [
      "Enter Price of Bike:  50000\n"
     ]
    },
    {
     "name": "stdout",
     "output_type": "stream",
     "text": [
      "5%\n"
     ]
    }
   ],
   "source": [
    "#Q2\n",
    "Cost_Price = int(input(\"Enter Price of Bike: \"))\n",
    "if Cost_Price > 100000:\n",
    "    print(\"15%\")\n",
    "elif Cost_Price > 50000 and Cost_Price <= 100000:\n",
    "    print(\"10%\")\n",
    "else: \n",
    "    print(\"5%\")"
   ]
  },
  {
   "cell_type": "code",
   "execution_count": 14,
   "id": "cb36f420-37b9-4485-8886-bc1341686861",
   "metadata": {},
   "outputs": [
    {
     "name": "stdin",
     "output_type": "stream",
     "text": [
      "Enter City :  DELHI\n"
     ]
    },
    {
     "name": "stdout",
     "output_type": "stream",
     "text": [
      "Red Fort\n"
     ]
    }
   ],
   "source": [
    "#Q3\n",
    "City = input(\"Enter City : \")\n",
    "City = City.capitalize()\n",
    "\n",
    "if City == \"Delhi\":\n",
    "    print(\"Red Fort\")\n",
    "elif City == \"Agra\":\n",
    "    print(\"Taj Mahal\")\n",
    "elif City == \"Jaipur\":\n",
    "    print(\"Jai Mahal\")"
   ]
  },
  {
   "cell_type": "code",
   "execution_count": 15,
   "id": "a17fe100-69a9-400e-8f34-7c6902eaa5e1",
   "metadata": {},
   "outputs": [
    {
     "name": "stdin",
     "output_type": "stream",
     "text": [
      "Enter number 90\n"
     ]
    },
    {
     "name": "stdout",
     "output_type": "stream",
     "text": [
      "2\n"
     ]
    }
   ],
   "source": [
    "#Q4\n",
    "num = int(input(\"Enter number\"))\n",
    "count = 0\n",
    "\n",
    "while num > 10:\n",
    "    num = num/3\n",
    "    count = count+1\n",
    "print(count)"
   ]
  },
  {
   "cell_type": "code",
   "execution_count": 2,
   "id": "a542ef21-d742-4469-b175-3f045c24ae6a",
   "metadata": {},
   "outputs": [
    {
     "data": {
      "text/plain": [
       "'A while loop in Python is used to execute a block of code repeatedly as long \\nas a given condition is true. The loop continues to run until the condition becomes\\nfalse.\\nwhile loops are used in Python when you want to repeat a task multiple times, until\\na certain condition is met. For example, you can use a while loop to read input from \\nthe user, repeat a process until a result is achieved, etc.'"
      ]
     },
     "execution_count": 2,
     "metadata": {},
     "output_type": "execute_result"
    }
   ],
   "source": [
    "#Q5\n",
    "\"\"\"A while loop in Python is used to execute a block of code repeatedly as long \n",
    "as a given condition is true. The loop continues to run until the condition becomes\n",
    "false.\n",
    "while loops are used in Python when you want to repeat a task multiple times, until\n",
    "a certain condition is met. For example, you can use a while loop to read input from \n",
    "the user, repeat a process until a result is achieved, etc.\"\"\""
   ]
  },
  {
   "cell_type": "code",
   "execution_count": 3,
   "id": "b0435a90-6974-44cc-9719-3e6d5b2ddb50",
   "metadata": {},
   "outputs": [],
   "source": [
    "#Q6"
   ]
  },
  {
   "cell_type": "code",
   "execution_count": 17,
   "id": "4f8a22bf-7d32-42bc-87b3-1eb843b39f61",
   "metadata": {},
   "outputs": [
    {
     "name": "stdin",
     "output_type": "stream",
     "text": [
      "Enter row:  6\n"
     ]
    },
    {
     "name": "stdout",
     "output_type": "stream",
     "text": [
      "* \n",
      "* * \n",
      "* * * \n",
      "* * * * \n",
      "* * * * * \n",
      "* * * * * * \n"
     ]
    }
   ],
   "source": [
    "#Pattern 1: - simple Pyramid\n",
    "\n",
    "row = int(input(\"Enter row: \"))\n",
    "i = 0\n",
    "j = 0\n",
    "while i <= row-1:\n",
    "    while j <= i:\n",
    "        print(\"*\", end =\" \")\n",
    "        j+=1\n",
    "    print(\"\\r\")\n",
    "    j = 0\n",
    "    i = i+1\n",
    "    \n",
    "     \n",
    "   \n"
   ]
  },
  {
   "cell_type": "code",
   "execution_count": 20,
   "id": "b4dde460-8f4c-4e74-b61c-c0cf37f5de8d",
   "metadata": {},
   "outputs": [
    {
     "name": "stdin",
     "output_type": "stream",
     "text": [
      "Enter Rows: 6\n"
     ]
    },
    {
     "name": "stdout",
     "output_type": "stream",
     "text": [
      "* * * * * * \n",
      "* * * * * \n",
      "* * * * \n",
      "* * * \n",
      "* * \n",
      "* \n"
     ]
    }
   ],
   "source": [
    "#pattern 2 :- reverse pyramid\n",
    "\n",
    "rows = int(input(\"Enter Rows:\"))\n",
    "i = 0\n",
    "j = rows\n",
    "\n",
    "while i <= rows-1:\n",
    "    while j >= 1:\n",
    "        print(\"*\", end=\" \")\n",
    "        j = j-1\n",
    "    print(\"\\r\")\n",
    "    j = rows-i-1\n",
    "    i+=1\n",
    "        \n"
   ]
  },
  {
   "cell_type": "code",
   "execution_count": 21,
   "id": "66d18df1-7e7b-41d7-bfe1-7a62e15e9698",
   "metadata": {},
   "outputs": [
    {
     "name": "stdin",
     "output_type": "stream",
     "text": [
      "Enter number of rows:  6\n"
     ]
    },
    {
     "name": "stdout",
     "output_type": "stream",
     "text": [
      "     *\n",
      "    ***\n",
      "   *****\n",
      "  *******\n",
      " *********\n",
      "***********\n"
     ]
    }
   ],
   "source": [
    "#Pattern 3: - Print Triangle\n",
    "rows = int(input(\"Enter number of rows: \"))\n",
    "i = 1\n",
    "while i <= rows:\n",
    "    j = 1\n",
    "    while j <= (rows - i):\n",
    "        print(end=\" \")\n",
    "        j = j + 1\n",
    "    k = 1\n",
    "    while k <= (2 * i - 1):\n",
    "        print(\"*\", end=\"\")\n",
    "        k = k + 1\n",
    "    print(\"\")\n",
    "    i = i + 1"
   ]
  },
  {
   "cell_type": "code",
   "execution_count": null,
   "id": "458c7a67-47ce-466b-8605-4653b87bbdf5",
   "metadata": {},
   "outputs": [],
   "source": [
    "#Q7\n",
    "n = 10\n",
    "while n > "
   ]
  }
 ],
 "metadata": {
  "kernelspec": {
   "display_name": "Python 3 (ipykernel)",
   "language": "python",
   "name": "python3"
  },
  "language_info": {
   "codemirror_mode": {
    "name": "ipython",
    "version": 3
   },
   "file_extension": ".py",
   "mimetype": "text/x-python",
   "name": "python",
   "nbconvert_exporter": "python",
   "pygments_lexer": "ipython3",
   "version": "3.10.8"
  }
 },
 "nbformat": 4,
 "nbformat_minor": 5
}
